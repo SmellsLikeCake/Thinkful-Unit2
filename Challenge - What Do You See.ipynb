{
 "cells": [
  {
   "cell_type": "code",
   "execution_count": 1,
   "metadata": {},
   "outputs": [],
   "source": [
    "import pandas as pd\n",
    "import numpy as np\n",
    "import matplotlib.pyplot as plt\n",
    "%matplotlib inline"
   ]
  },
  {
   "cell_type": "markdown",
   "metadata": {},
   "source": [
    "I am going to use data from [ourworldindata.org](ourworldindata.org). Specifically, I will be using data on government spending which can be found [here](https://ourworldindata.org/government-spending#recent-data-on-the-size-of-governments)."
   ]
  },
  {
   "cell_type": "code",
   "execution_count": 2,
   "metadata": {},
   "outputs": [],
   "source": [
    "gov_spend = pd.read_csv('total-gov-expenditure-gdp-wdi.csv')"
   ]
  },
  {
   "cell_type": "markdown",
   "metadata": {},
   "source": [
    "I am going to pick locations in the dataset to explore it a bit."
   ]
  },
  {
   "cell_type": "code",
   "execution_count": 3,
   "metadata": {},
   "outputs": [
    {
     "data": {
      "text/html": [
       "<div>\n",
       "<style scoped>\n",
       "    .dataframe tbody tr th:only-of-type {\n",
       "        vertical-align: middle;\n",
       "    }\n",
       "\n",
       "    .dataframe tbody tr th {\n",
       "        vertical-align: top;\n",
       "    }\n",
       "\n",
       "    .dataframe thead th {\n",
       "        text-align: right;\n",
       "    }\n",
       "</style>\n",
       "<table border=\"1\" class=\"dataframe\">\n",
       "  <thead>\n",
       "    <tr style=\"text-align: right;\">\n",
       "      <th></th>\n",
       "      <th>Entity</th>\n",
       "      <th>Code</th>\n",
       "      <th>Year</th>\n",
       "      <th>(% of GDP)</th>\n",
       "    </tr>\n",
       "  </thead>\n",
       "  <tbody>\n",
       "    <tr>\n",
       "      <th>4150</th>\n",
       "      <td>United States</td>\n",
       "      <td>USA</td>\n",
       "      <td>2014</td>\n",
       "      <td>22.936316</td>\n",
       "    </tr>\n",
       "    <tr>\n",
       "      <th>4151</th>\n",
       "      <td>United States</td>\n",
       "      <td>USA</td>\n",
       "      <td>2015</td>\n",
       "      <td>22.755974</td>\n",
       "    </tr>\n",
       "    <tr>\n",
       "      <th>4152</th>\n",
       "      <td>United States</td>\n",
       "      <td>USA</td>\n",
       "      <td>2016</td>\n",
       "      <td>22.880457</td>\n",
       "    </tr>\n",
       "    <tr>\n",
       "      <th>4153</th>\n",
       "      <td>Uruguay</td>\n",
       "      <td>URY</td>\n",
       "      <td>1972</td>\n",
       "      <td>24.952676</td>\n",
       "    </tr>\n",
       "    <tr>\n",
       "      <th>4154</th>\n",
       "      <td>Uruguay</td>\n",
       "      <td>URY</td>\n",
       "      <td>1973</td>\n",
       "      <td>15.921130</td>\n",
       "    </tr>\n",
       "    <tr>\n",
       "      <th>4155</th>\n",
       "      <td>Uruguay</td>\n",
       "      <td>URY</td>\n",
       "      <td>1974</td>\n",
       "      <td>21.925919</td>\n",
       "    </tr>\n",
       "    <tr>\n",
       "      <th>4156</th>\n",
       "      <td>Uruguay</td>\n",
       "      <td>URY</td>\n",
       "      <td>1975</td>\n",
       "      <td>22.512957</td>\n",
       "    </tr>\n",
       "    <tr>\n",
       "      <th>4157</th>\n",
       "      <td>Uruguay</td>\n",
       "      <td>URY</td>\n",
       "      <td>1976</td>\n",
       "      <td>22.929947</td>\n",
       "    </tr>\n",
       "    <tr>\n",
       "      <th>4158</th>\n",
       "      <td>Uruguay</td>\n",
       "      <td>URY</td>\n",
       "      <td>1977</td>\n",
       "      <td>21.820654</td>\n",
       "    </tr>\n",
       "    <tr>\n",
       "      <th>4159</th>\n",
       "      <td>Uruguay</td>\n",
       "      <td>URY</td>\n",
       "      <td>1978</td>\n",
       "      <td>21.470038</td>\n",
       "    </tr>\n",
       "  </tbody>\n",
       "</table>\n",
       "</div>"
      ],
      "text/plain": [
       "             Entity Code  Year   (% of GDP)\n",
       "4150  United States  USA  2014    22.936316\n",
       "4151  United States  USA  2015    22.755974\n",
       "4152  United States  USA  2016    22.880457\n",
       "4153        Uruguay  URY  1972    24.952676\n",
       "4154        Uruguay  URY  1973    15.921130\n",
       "4155        Uruguay  URY  1974    21.925919\n",
       "4156        Uruguay  URY  1975    22.512957\n",
       "4157        Uruguay  URY  1976    22.929947\n",
       "4158        Uruguay  URY  1977    21.820654\n",
       "4159        Uruguay  URY  1978    21.470038"
      ]
     },
     "execution_count": 3,
     "metadata": {},
     "output_type": "execute_result"
    }
   ],
   "source": [
    "gov_spend.iloc[4150:4160,]"
   ]
  },
  {
   "cell_type": "code",
   "execution_count": 4,
   "metadata": {},
   "outputs": [
    {
     "data": {
      "text/html": [
       "<div>\n",
       "<style scoped>\n",
       "    .dataframe tbody tr th:only-of-type {\n",
       "        vertical-align: middle;\n",
       "    }\n",
       "\n",
       "    .dataframe tbody tr th {\n",
       "        vertical-align: top;\n",
       "    }\n",
       "\n",
       "    .dataframe thead th {\n",
       "        text-align: right;\n",
       "    }\n",
       "</style>\n",
       "<table border=\"1\" class=\"dataframe\">\n",
       "  <thead>\n",
       "    <tr style=\"text-align: right;\">\n",
       "      <th></th>\n",
       "      <th>Entity</th>\n",
       "      <th>Year</th>\n",
       "      <th>(% of GDP)</th>\n",
       "    </tr>\n",
       "    <tr>\n",
       "      <th>Code</th>\n",
       "      <th></th>\n",
       "      <th></th>\n",
       "      <th></th>\n",
       "    </tr>\n",
       "  </thead>\n",
       "  <tbody>\n",
       "    <tr>\n",
       "      <th>AFG</th>\n",
       "      <td>8</td>\n",
       "      <td>8</td>\n",
       "      <td>8</td>\n",
       "    </tr>\n",
       "    <tr>\n",
       "      <th>AGO</th>\n",
       "      <td>17</td>\n",
       "      <td>17</td>\n",
       "      <td>17</td>\n",
       "    </tr>\n",
       "    <tr>\n",
       "      <th>ALB</th>\n",
       "      <td>12</td>\n",
       "      <td>12</td>\n",
       "      <td>12</td>\n",
       "    </tr>\n",
       "    <tr>\n",
       "      <th>ARE</th>\n",
       "      <td>8</td>\n",
       "      <td>8</td>\n",
       "      <td>8</td>\n",
       "    </tr>\n",
       "    <tr>\n",
       "      <th>ARG</th>\n",
       "      <td>16</td>\n",
       "      <td>16</td>\n",
       "      <td>16</td>\n",
       "    </tr>\n",
       "    <tr>\n",
       "      <th>ARM</th>\n",
       "      <td>11</td>\n",
       "      <td>11</td>\n",
       "      <td>11</td>\n",
       "    </tr>\n",
       "    <tr>\n",
       "      <th>ATG</th>\n",
       "      <td>15</td>\n",
       "      <td>15</td>\n",
       "      <td>15</td>\n",
       "    </tr>\n",
       "    <tr>\n",
       "      <th>AUS</th>\n",
       "      <td>44</td>\n",
       "      <td>44</td>\n",
       "      <td>44</td>\n",
       "    </tr>\n",
       "    <tr>\n",
       "      <th>AUT</th>\n",
       "      <td>44</td>\n",
       "      <td>44</td>\n",
       "      <td>44</td>\n",
       "    </tr>\n",
       "    <tr>\n",
       "      <th>AZE</th>\n",
       "      <td>14</td>\n",
       "      <td>14</td>\n",
       "      <td>14</td>\n",
       "    </tr>\n",
       "    <tr>\n",
       "      <th>BDI</th>\n",
       "      <td>9</td>\n",
       "      <td>9</td>\n",
       "      <td>9</td>\n",
       "    </tr>\n",
       "    <tr>\n",
       "      <th>BEL</th>\n",
       "      <td>21</td>\n",
       "      <td>21</td>\n",
       "      <td>21</td>\n",
       "    </tr>\n",
       "    <tr>\n",
       "      <th>BEN</th>\n",
       "      <td>13</td>\n",
       "      <td>13</td>\n",
       "      <td>13</td>\n",
       "    </tr>\n",
       "    <tr>\n",
       "      <th>BFA</th>\n",
       "      <td>14</td>\n",
       "      <td>14</td>\n",
       "      <td>14</td>\n",
       "    </tr>\n",
       "    <tr>\n",
       "      <th>BGD</th>\n",
       "      <td>15</td>\n",
       "      <td>15</td>\n",
       "      <td>15</td>\n",
       "    </tr>\n",
       "    <tr>\n",
       "      <th>BGR</th>\n",
       "      <td>26</td>\n",
       "      <td>26</td>\n",
       "      <td>26</td>\n",
       "    </tr>\n",
       "    <tr>\n",
       "      <th>BHR</th>\n",
       "      <td>23</td>\n",
       "      <td>23</td>\n",
       "      <td>23</td>\n",
       "    </tr>\n",
       "    <tr>\n",
       "      <th>BHS</th>\n",
       "      <td>42</td>\n",
       "      <td>42</td>\n",
       "      <td>42</td>\n",
       "    </tr>\n",
       "    <tr>\n",
       "      <th>BIH</th>\n",
       "      <td>11</td>\n",
       "      <td>11</td>\n",
       "      <td>11</td>\n",
       "    </tr>\n",
       "    <tr>\n",
       "      <th>BLR</th>\n",
       "      <td>24</td>\n",
       "      <td>24</td>\n",
       "      <td>24</td>\n",
       "    </tr>\n",
       "    <tr>\n",
       "      <th>BLZ</th>\n",
       "      <td>25</td>\n",
       "      <td>25</td>\n",
       "      <td>25</td>\n",
       "    </tr>\n",
       "    <tr>\n",
       "      <th>BOL</th>\n",
       "      <td>22</td>\n",
       "      <td>22</td>\n",
       "      <td>22</td>\n",
       "    </tr>\n",
       "    <tr>\n",
       "      <th>BRA</th>\n",
       "      <td>34</td>\n",
       "      <td>34</td>\n",
       "      <td>34</td>\n",
       "    </tr>\n",
       "    <tr>\n",
       "      <th>BRB</th>\n",
       "      <td>11</td>\n",
       "      <td>11</td>\n",
       "      <td>11</td>\n",
       "    </tr>\n",
       "    <tr>\n",
       "      <th>BTN</th>\n",
       "      <td>32</td>\n",
       "      <td>32</td>\n",
       "      <td>32</td>\n",
       "    </tr>\n",
       "    <tr>\n",
       "      <th>BWA</th>\n",
       "      <td>16</td>\n",
       "      <td>16</td>\n",
       "      <td>16</td>\n",
       "    </tr>\n",
       "    <tr>\n",
       "      <th>CAF</th>\n",
       "      <td>6</td>\n",
       "      <td>6</td>\n",
       "      <td>6</td>\n",
       "    </tr>\n",
       "    <tr>\n",
       "      <th>CAN</th>\n",
       "      <td>27</td>\n",
       "      <td>27</td>\n",
       "      <td>27</td>\n",
       "    </tr>\n",
       "    <tr>\n",
       "      <th>CHE</th>\n",
       "      <td>31</td>\n",
       "      <td>31</td>\n",
       "      <td>31</td>\n",
       "    </tr>\n",
       "    <tr>\n",
       "      <th>CHL</th>\n",
       "      <td>44</td>\n",
       "      <td>44</td>\n",
       "      <td>44</td>\n",
       "    </tr>\n",
       "    <tr>\n",
       "      <th>...</th>\n",
       "      <td>...</td>\n",
       "      <td>...</td>\n",
       "      <td>...</td>\n",
       "    </tr>\n",
       "    <tr>\n",
       "      <th>SLE</th>\n",
       "      <td>16</td>\n",
       "      <td>16</td>\n",
       "      <td>16</td>\n",
       "    </tr>\n",
       "    <tr>\n",
       "      <th>SLV</th>\n",
       "      <td>18</td>\n",
       "      <td>18</td>\n",
       "      <td>18</td>\n",
       "    </tr>\n",
       "    <tr>\n",
       "      <th>SMR</th>\n",
       "      <td>8</td>\n",
       "      <td>8</td>\n",
       "      <td>8</td>\n",
       "    </tr>\n",
       "    <tr>\n",
       "      <th>SRB</th>\n",
       "      <td>6</td>\n",
       "      <td>6</td>\n",
       "      <td>6</td>\n",
       "    </tr>\n",
       "    <tr>\n",
       "      <th>STP</th>\n",
       "      <td>11</td>\n",
       "      <td>11</td>\n",
       "      <td>11</td>\n",
       "    </tr>\n",
       "    <tr>\n",
       "      <th>SUR</th>\n",
       "      <td>12</td>\n",
       "      <td>12</td>\n",
       "      <td>12</td>\n",
       "    </tr>\n",
       "    <tr>\n",
       "      <th>SVK</th>\n",
       "      <td>21</td>\n",
       "      <td>21</td>\n",
       "      <td>21</td>\n",
       "    </tr>\n",
       "    <tr>\n",
       "      <th>SVN</th>\n",
       "      <td>21</td>\n",
       "      <td>21</td>\n",
       "      <td>21</td>\n",
       "    </tr>\n",
       "    <tr>\n",
       "      <th>SWE</th>\n",
       "      <td>44</td>\n",
       "      <td>44</td>\n",
       "      <td>44</td>\n",
       "    </tr>\n",
       "    <tr>\n",
       "      <th>SWZ</th>\n",
       "      <td>14</td>\n",
       "      <td>14</td>\n",
       "      <td>14</td>\n",
       "    </tr>\n",
       "    <tr>\n",
       "      <th>SYC</th>\n",
       "      <td>24</td>\n",
       "      <td>24</td>\n",
       "      <td>24</td>\n",
       "    </tr>\n",
       "    <tr>\n",
       "      <th>SYR</th>\n",
       "      <td>10</td>\n",
       "      <td>10</td>\n",
       "      <td>10</td>\n",
       "    </tr>\n",
       "    <tr>\n",
       "      <th>TGO</th>\n",
       "      <td>11</td>\n",
       "      <td>11</td>\n",
       "      <td>11</td>\n",
       "    </tr>\n",
       "    <tr>\n",
       "      <th>THA</th>\n",
       "      <td>44</td>\n",
       "      <td>44</td>\n",
       "      <td>44</td>\n",
       "    </tr>\n",
       "    <tr>\n",
       "      <th>TLS</th>\n",
       "      <td>6</td>\n",
       "      <td>6</td>\n",
       "      <td>6</td>\n",
       "    </tr>\n",
       "    <tr>\n",
       "      <th>TTO</th>\n",
       "      <td>15</td>\n",
       "      <td>15</td>\n",
       "      <td>15</td>\n",
       "    </tr>\n",
       "    <tr>\n",
       "      <th>TUN</th>\n",
       "      <td>41</td>\n",
       "      <td>41</td>\n",
       "      <td>41</td>\n",
       "    </tr>\n",
       "    <tr>\n",
       "      <th>TUR</th>\n",
       "      <td>34</td>\n",
       "      <td>34</td>\n",
       "      <td>34</td>\n",
       "    </tr>\n",
       "    <tr>\n",
       "      <th>TZA</th>\n",
       "      <td>8</td>\n",
       "      <td>8</td>\n",
       "      <td>8</td>\n",
       "    </tr>\n",
       "    <tr>\n",
       "      <th>UGA</th>\n",
       "      <td>17</td>\n",
       "      <td>17</td>\n",
       "      <td>17</td>\n",
       "    </tr>\n",
       "    <tr>\n",
       "      <th>UKR</th>\n",
       "      <td>17</td>\n",
       "      <td>17</td>\n",
       "      <td>17</td>\n",
       "    </tr>\n",
       "    <tr>\n",
       "      <th>URY</th>\n",
       "      <td>44</td>\n",
       "      <td>44</td>\n",
       "      <td>44</td>\n",
       "    </tr>\n",
       "    <tr>\n",
       "      <th>USA</th>\n",
       "      <td>45</td>\n",
       "      <td>45</td>\n",
       "      <td>45</td>\n",
       "    </tr>\n",
       "    <tr>\n",
       "      <th>VNM</th>\n",
       "      <td>11</td>\n",
       "      <td>11</td>\n",
       "      <td>11</td>\n",
       "    </tr>\n",
       "    <tr>\n",
       "      <th>VUT</th>\n",
       "      <td>9</td>\n",
       "      <td>9</td>\n",
       "      <td>9</td>\n",
       "    </tr>\n",
       "    <tr>\n",
       "      <th>WSM</th>\n",
       "      <td>7</td>\n",
       "      <td>7</td>\n",
       "      <td>7</td>\n",
       "    </tr>\n",
       "    <tr>\n",
       "      <th>YEM</th>\n",
       "      <td>10</td>\n",
       "      <td>10</td>\n",
       "      <td>10</td>\n",
       "    </tr>\n",
       "    <tr>\n",
       "      <th>ZAF</th>\n",
       "      <td>44</td>\n",
       "      <td>44</td>\n",
       "      <td>44</td>\n",
       "    </tr>\n",
       "    <tr>\n",
       "      <th>ZMB</th>\n",
       "      <td>13</td>\n",
       "      <td>13</td>\n",
       "      <td>13</td>\n",
       "    </tr>\n",
       "    <tr>\n",
       "      <th>ZWE</th>\n",
       "      <td>8</td>\n",
       "      <td>8</td>\n",
       "      <td>8</td>\n",
       "    </tr>\n",
       "  </tbody>\n",
       "</table>\n",
       "<p>158 rows × 3 columns</p>\n",
       "</div>"
      ],
      "text/plain": [
       "      Entity  Year   (% of GDP)\n",
       "Code                           \n",
       "AFG        8     8            8\n",
       "AGO       17    17           17\n",
       "ALB       12    12           12\n",
       "ARE        8     8            8\n",
       "ARG       16    16           16\n",
       "ARM       11    11           11\n",
       "ATG       15    15           15\n",
       "AUS       44    44           44\n",
       "AUT       44    44           44\n",
       "AZE       14    14           14\n",
       "BDI        9     9            9\n",
       "BEL       21    21           21\n",
       "BEN       13    13           13\n",
       "BFA       14    14           14\n",
       "BGD       15    15           15\n",
       "BGR       26    26           26\n",
       "BHR       23    23           23\n",
       "BHS       42    42           42\n",
       "BIH       11    11           11\n",
       "BLR       24    24           24\n",
       "BLZ       25    25           25\n",
       "BOL       22    22           22\n",
       "BRA       34    34           34\n",
       "BRB       11    11           11\n",
       "BTN       32    32           32\n",
       "BWA       16    16           16\n",
       "CAF        6     6            6\n",
       "CAN       27    27           27\n",
       "CHE       31    31           31\n",
       "CHL       44    44           44\n",
       "...      ...   ...          ...\n",
       "SLE       16    16           16\n",
       "SLV       18    18           18\n",
       "SMR        8     8            8\n",
       "SRB        6     6            6\n",
       "STP       11    11           11\n",
       "SUR       12    12           12\n",
       "SVK       21    21           21\n",
       "SVN       21    21           21\n",
       "SWE       44    44           44\n",
       "SWZ       14    14           14\n",
       "SYC       24    24           24\n",
       "SYR       10    10           10\n",
       "TGO       11    11           11\n",
       "THA       44    44           44\n",
       "TLS        6     6            6\n",
       "TTO       15    15           15\n",
       "TUN       41    41           41\n",
       "TUR       34    34           34\n",
       "TZA        8     8            8\n",
       "UGA       17    17           17\n",
       "UKR       17    17           17\n",
       "URY       44    44           44\n",
       "USA       45    45           45\n",
       "VNM       11    11           11\n",
       "VUT        9     9            9\n",
       "WSM        7     7            7\n",
       "YEM       10    10           10\n",
       "ZAF       44    44           44\n",
       "ZMB       13    13           13\n",
       "ZWE        8     8            8\n",
       "\n",
       "[158 rows x 3 columns]"
      ]
     },
     "execution_count": 4,
     "metadata": {},
     "output_type": "execute_result"
    }
   ],
   "source": [
    "gov_spend.groupby('Code').count()"
   ]
  },
  {
   "cell_type": "markdown",
   "metadata": {},
   "source": [
    "I am going to extract the USA, UK and South Africa data to create more manageable datasets for this task."
   ]
  },
  {
   "cell_type": "code",
   "execution_count": 17,
   "metadata": {},
   "outputs": [
    {
     "name": "stdout",
     "output_type": "stream",
     "text": [
      "             Entity Code  Year   (% of GDP)\n",
      "4108  United States  USA  1972    17.751973\n",
      "4109  United States  USA  1973    17.856580\n",
      "4110  United States  USA  1974    17.841267\n",
      "4111  United States  USA  1975    19.424213\n",
      "4112  United States  USA  1976    19.688568\n",
      "4113  United States  USA  1977    19.564218\n",
      "4114  United States  USA  1978    19.083236\n",
      "4115  United States  USA  1979    18.886512\n",
      "4116  United States  USA  1980    20.506864\n",
      "4117  United States  USA  1981    20.979110\n",
      "4118  United States  USA  1982    22.455068\n",
      "4119  United States  USA  1983    22.777042\n",
      "4120  United States  USA  1984    21.453993\n",
      "4121  United States  USA  1985    22.135240\n",
      "4122  United States  USA  1986    22.179643\n",
      "4123  United States  USA  1987    21.308496\n",
      "4124  United States  USA  1988    20.965501\n",
      "4125  United States  USA  1989    20.803709\n",
      "4126  United States  USA  1990    21.499638\n",
      "4127  United States  USA  1991    22.825400\n",
      "4128  United States  USA  1992    21.755084\n",
      "4129  United States  USA  1993    21.354706\n",
      "4130  United States  USA  1994    20.670415\n",
      "4131  United States  USA  1995    20.467872\n",
      "4132  United States  USA  1996    19.938518\n",
      "4133  United States  USA  1997    19.319941\n",
      "4134  United States  USA  1998    18.667055\n",
      "4135  United States  USA  1999    18.049248\n",
      "4136  United States  USA  2000    17.867569\n",
      "4137  United States  USA  2001    19.433762\n",
      "4138  United States  USA  2002    19.994573\n",
      "4139  United States  USA  2003    20.554998\n",
      "4140  United States  USA  2004    20.339101\n",
      "4141  United States  USA  2005    20.645857\n",
      "4142  United States  USA  2006    20.529763\n",
      "4143  United States  USA  2007    20.854718\n",
      "4144  United States  USA  2008    22.882191\n",
      "4145  United States  USA  2009    25.677828\n",
      "4146  United States  USA  2010    26.225451\n",
      "4147  United States  USA  2011    25.506140\n",
      "4148  United States  USA  2012    24.124497\n",
      "4149  United States  USA  2013    23.183447\n",
      "4150  United States  USA  2014    22.936316\n",
      "4151  United States  USA  2015    22.755974\n",
      "4152  United States  USA  2016    22.880457\n"
     ]
    }
   ],
   "source": [
    "usa_spend = gov_spend[gov_spend['Code'] == 'USA']\n",
    "print(usa_spend)"
   ]
  },
  {
   "cell_type": "markdown",
   "metadata": {},
   "source": [
    "I was having some trouble plotting the final column - I thought I had to escape the special characters but the below has showed me there was a secret space!"
   ]
  },
  {
   "cell_type": "code",
   "execution_count": 6,
   "metadata": {},
   "outputs": [
    {
     "name": "stdout",
     "output_type": "stream",
     "text": [
      "Index(['Entity', 'Code', 'Year', ' (% of GDP)'], dtype='object')\n"
     ]
    }
   ],
   "source": [
    "print(usa_spend.columns)"
   ]
  },
  {
   "cell_type": "code",
   "execution_count": 7,
   "metadata": {
    "scrolled": true
   },
   "outputs": [
    {
     "data": {
      "image/png": "[encoded data removed]",
      "text/plain": [
       "<Figure size 432x288 with 1 Axes>"
      ]
     },
     "metadata": {
      "needs_background": "light"
     },
     "output_type": "display_data"
    }
   ],
   "source": [
    "plt.plot(usa_spend['Year'],usa_spend[' (% of GDP)'])\n",
    "plt.title(\"US Government Spending\")\n",
    "plt.xlabel(\"Year\")\n",
    "plt.ylabel(\"Spending as % of GDP\")\n",
    "plt.show()"
   ]
  },
  {
   "cell_type": "code",
   "execution_count": 8,
   "metadata": {},
   "outputs": [
    {
     "data": {
      "image/png": "[encoded data removed]",
      "text/plain": [
       "<Figure size 1080x360 with 3 Axes>"
      ]
     },
     "metadata": {
      "needs_background": "light"
     },
     "output_type": "display_data"
    }
   ],
   "source": [
    "uk_spend = gov_spend.loc[gov_spend['Code'] == 'GBR',]\n",
    "sa_spend = gov_spend.loc[gov_spend['Code'] == 'ZAF',]\n",
    "\n",
    "plt.figure(figsize=(15, 5))\n",
    "\n",
    "plt.subplot(1, 3, 1)\n",
    "plt.plot(usa_spend['Year'], usa_spend[' (% of GDP)'], color = 'blue')\n",
    "plt.title(\"US Government Spending\")\n",
    "plt.xlabel(\"Year\")\n",
    "plt.ylabel(\"Spending as % of GDP\")\n",
    "\n",
    "plt.subplot(1, 3, 2)\n",
    "plt.plot(uk_spend['Year'], uk_spend[' (% of GDP)'], color = 'red')\n",
    "plt.title(\"UK Government Spending\")\n",
    "plt.xlabel(\"Year\")\n",
    "plt.ylabel(\"Spending as % of GDP\")\n",
    "\n",
    "plt.subplot(1, 3, 3)\n",
    "plt.plot(sa_spend['Year'], sa_spend[' (% of GDP)'], color = 'green')\n",
    "plt.title(\"South Africa Government Spending\")\n",
    "plt.xlabel(\"Year\")\n",
    "plt.ylabel(\"Spending as % of GDP\")\n",
    "\n",
    "plt.tight_layout()\n",
    "plt.show()"
   ]
  },
  {
   "cell_type": "markdown",
   "metadata": {},
   "source": [
    "We can see from these subplots that the US and UK governments have followed similar trends in government spending since the mid 1990s. Spending dipped for both countries as a % of GDP , bottoming out around 2000, before growing until around 2009/2010, when it started to tail off again. South Africa has experienced a similar trend, but the dip in the 1990s was not so pronounced, and no peak was reached around 2010. \n",
    "\n",
    "These graphs are good for comparing the general shapes of the data but not their relative sizes - the scales on the y axes are very different. For example, the top level of US government spending as a % of GDP was lower than the lowest point of the UK government spending as a % of GDP."
   ]
  },
  {
   "cell_type": "code",
   "execution_count": 9,
   "metadata": {},
   "outputs": [
    {
     "data": {
      "image/png": "[encoded data removed]",
      "text/plain": [
       "<Figure size 432x288 with 1 Axes>"
      ]
     },
     "metadata": {
      "needs_background": "light"
     },
     "output_type": "display_data"
    }
   ],
   "source": [
    "plt.plot(usa_spend['Year'], usa_spend[' (% of GDP)'], color = 'blue')\n",
    "plt.plot(uk_spend['Year'], uk_spend[' (% of GDP)'], color = 'red')\n",
    "plt.plot(sa_spend['Year'], sa_spend[' (% of GDP)'], color = 'green')\n",
    "plt.title(\"Government spending\")\n",
    "plt.ylabel(\"Spending as % of GDP\")\n",
    "plt.legend((\"USA\", 'UK', \"South Africa\"))\n",
    "plt.show()"
   ]
  },
  {
   "cell_type": "markdown",
   "metadata": {},
   "source": [
    "This plot shows the relative levels of spending in each country compared to the other countries quite clearly. The UK government spends the most at all times as a % of GDP out of the three countries. The USA and South Africa started off at a similar level in 1972, but the percentage has increased much more in South Africa compared to the USA, reaching around 35% in about 2015 compared to around 22% in the USA. However, it is harder to compare the general shapes and trends of the spending on this graph compared to the subplots because the effects took place on different scales for each country."
   ]
  },
  {
   "cell_type": "code",
   "execution_count": 10,
   "metadata": {},
   "outputs": [],
   "source": [
    "yr_2000_spend = gov_spend.loc[gov_spend['Year'] == 2000,]"
   ]
  },
  {
   "cell_type": "code",
   "execution_count": 11,
   "metadata": {},
   "outputs": [
    {
     "data": {
      "image/png": "[encoded data removed]",
      "text/plain": [
       "<Figure size 432x288 with 1 Axes>"
      ]
     },
     "metadata": {
      "needs_background": "light"
     },
     "output_type": "display_data"
    }
   ],
   "source": [
    "plt.boxplot(yr_2000_spend[' (% of GDP)'])\n",
    "plt.title(\"Government spending in 2000\")\n",
    "plt.ylabel(\"Percentage of GDP\")\n",
    "plt.show()"
   ]
  },
  {
   "cell_type": "markdown",
   "metadata": {},
   "source": [
    "Most countries' government spending as a % of GDP in 2000 was around 20%. There are two, maybe three, countries which look to be significant outliers, spending over 50% of GDP. I will remove the top two countries before plotting the histogram to get a better look at the distribution."
   ]
  },
  {
   "cell_type": "code",
   "execution_count": 12,
   "metadata": {},
   "outputs": [],
   "source": [
    "yr_2000_spend_under_60 = yr_2000_spend.loc[yr_2000_spend[' (% of GDP)'] < 60,]"
   ]
  },
  {
   "cell_type": "code",
   "execution_count": 13,
   "metadata": {},
   "outputs": [
    {
     "data": {
      "image/png": "[encoded data removed]",
      "text/plain": [
       "<Figure size 432x288 with 1 Axes>"
      ]
     },
     "metadata": {
      "needs_background": "light"
     },
     "output_type": "display_data"
    }
   ],
   "source": [
    "plt.hist(yr_2000_spend_under_60[' (% of GDP)'])\n",
    "plt.title(\"Government spending in 2000\")\n",
    "plt.xlabel(\"Percentage of GDP\")\n",
    "plt.ylabel(\"Number of countries\")\n",
    "plt.show()"
   ]
  },
  {
   "cell_type": "markdown",
   "metadata": {},
   "source": [
    "The histogram shows the distribution of government spending as a percentage of GDP. It is clearer from the histogram, compared to the boxplot, that the distribution is skewed."
   ]
  },
  {
   "cell_type": "code",
   "execution_count": 20,
   "metadata": {},
   "outputs": [
    {
     "name": "stdout",
     "output_type": "stream",
     "text": [
      "                                          Entity      Code  Year   (% of GDP)\n",
      "4                                    Afghanistan       AFG  2010    50.607292\n",
      "36                                       Algeria       DZA  2010    24.470536\n",
      "49                                        Angola       AGO  2010    26.062375\n",
      "65                           Antigua and Barbuda       ATG  2010    21.817794\n",
      "92                                       Armenia       ARM  2010    22.997362\n",
      "135                                    Australia       AUS  2010    26.775403\n",
      "179                                      Austria       AUT  2010    46.622355\n",
      "193                                   Azerbaijan       AZE  2010    20.872483\n",
      "235                                      Bahamas       BHS  2010    17.657876\n",
      "261                                      Bahrain       BHR  2010    19.467553\n",
      "273                                   Bangladesh       BGD  2010     9.266251\n",
      "286                                     Barbados       BRB  2010    34.995229\n",
      "308                                      Belarus       BLR  2010    30.207480\n",
      "329                                      Belgium       BEL  2010    43.269287\n",
      "355                                       Belize       BLZ  2010    24.687473\n",
      "369                                        Benin       BEN  2010    13.296202\n",
      "400                                       Bhutan       BTN  2010    21.704170\n",
      "432                       Bosnia and Herzegovina       BIH  2010    39.191870\n",
      "449                                     Botswana       BWA  2010    33.124181\n",
      "482                                       Brazil       BRA  2010    30.650501\n",
      "508                                     Bulgaria       BGR  2010    24.523933\n",
      "522                                 Burkina Faso       BFA  2010    11.915740\n",
      "545                                     Cambodia       KHM  2010    10.632768\n",
      "571                                       Canada       CAN  2010    19.129659\n",
      "596                       Caribbean small states       NaN  2010    28.803947\n",
      "602                     Central African Republic       CAF  2010    17.607463\n",
      "621               Central Europe and the Baltics       NaN  2010    35.937849\n",
      "665                                        Chile       CHL  2010    20.503447\n",
      "677                                     Colombia       COL  2010    25.364105\n",
      "700                                        Congo       COG  2010    13.386709\n",
      "...                                          ...       ...   ...          ...\n",
      "3476                                Small states       NaN  2010    24.415591\n",
      "3520                                South Africa       ZAF  2010    31.783632\n",
      "3562                                  South Asia       NaN  2010    16.581523\n",
      "3602                     South Asia (IDA & IBRD)       NaN  2010    16.581523\n",
      "3644                                 South Korea       KOR  2010    18.425422\n",
      "3688                                       Spain       ESP  2010    19.771341\n",
      "3713                                   Sri Lanka       LKA  2010    16.849828\n",
      "3726                          Sub-Saharan Africa       NaN  2010    19.726990\n",
      "3737             Sub-Saharan Africa (IDA & IBRD)       NaN  2010    19.726990\n",
      "3748  Sub-Saharan Africa (excluding high income)       NaN  2010    19.718597\n",
      "3761                                    Suriname       SUR  2010    20.859821\n",
      "3775                                   Swaziland       SWZ  2010    24.686962\n",
      "3816                                      Sweden       SWE  2010    32.863920\n",
      "3847                                 Switzerland       CHE  2010    17.042823\n",
      "3864                                    Tanzania       TZA  2010    13.447056\n",
      "3909                                    Thailand       THA  2010    17.411406\n",
      "3915                                       Timor       TLS  2010    78.191622\n",
      "3927                                        Togo       TGO  2010    14.419023\n",
      "3944                         Trinidad and Tobago       TTO  2010    30.697681\n",
      "3985                                     Tunisia       TUN  2010    28.046690\n",
      "4016                                      Turkey       TUR  2010    33.555803\n",
      "4033                                      Uganda       UGA  2010    13.908167\n",
      "4050                                     Ukraine       UKR  2010    41.054824\n",
      "4102                              United Kingdom       GBR  2010    43.257894\n",
      "4146                               United States       USA  2010    26.225451\n",
      "4191                                     Uruguay       URY  2010    29.420132\n",
      "4204                                     Vanuatu       VUT  2010    22.247762\n",
      "4213                                     Vietnam       VNM  2010    19.184384\n",
      "4254                                       World  OWID_WRL  2010    28.776084\n",
      "4281                                      Zambia       ZMB  2010    13.705489\n",
      "\n",
      "[167 rows x 4 columns]\n"
     ]
    }
   ],
   "source": [
    "yr_2010_spend = gov_spend[gov_spend['Year'] == 2010]\n",
    "print(yr_2010_spend)"
   ]
  },
  {
   "cell_type": "code",
   "execution_count": 24,
   "metadata": {},
   "outputs": [
    {
     "data": {
      "image/png": "[encoded data removed]",
      "text/plain": [
       "<Figure size 432x288 with 1 Axes>"
      ]
     },
     "metadata": {
      "needs_background": "light"
     },
     "output_type": "display_data"
    }
   ],
   "source": [
    "plt.hist(yr_2000_spend[' (% of GDP)'], density=True, color='blue', alpha = .5)\n",
    "plt.hist(yr_2010_spend[' (% of GDP)'], density=True, color='red', alpha = .5)\n",
    "plt.show()"
   ]
  },
  {
   "cell_type": "code",
   "execution_count": 25,
   "metadata": {},
   "outputs": [],
   "source": [
    "yr_2010_spend_under_60 = yr_2010_spend.loc[yr_2010_spend[' (% of GDP)'] < 60, ]"
   ]
  },
  {
   "cell_type": "code",
   "execution_count": 26,
   "metadata": {},
   "outputs": [
    {
     "data": {
      "image/png": "[encoded data removed]",
      "text/plain": [
       "<Figure size 432x288 with 1 Axes>"
      ]
     },
     "metadata": {
      "needs_background": "light"
     },
     "output_type": "display_data"
    }
   ],
   "source": [
    "plt.hist(yr_2000_spend_under_60[' (% of GDP)'], density=True, color='blue', alpha=.5)\n",
    "plt.hist(yr_2010_spend_under_60[' (% of GDP)'], density=True, color='red', alpha=.5)\n",
    "plt.show()"
   ]
  },
  {
   "cell_type": "code",
   "execution_count": null,
   "metadata": {},
   "outputs": [],
   "source": []
  }
 ],
 "metadata": {
  "kernelspec": {
   "display_name": "Python 3",
   "language": "python",
   "name": "python3"
  },
  "language_info": {
   "codemirror_mode": {
    "name": "ipython",
    "version": 3
   },
   "file_extension": ".py",
   "mimetype": "text/x-python",
   "name": "python",
   "nbconvert_exporter": "python",
   "pygments_lexer": "ipython3",
   "version": "3.7.2"
  }
 },
 "nbformat": 4,
 "nbformat_minor": 2
}
